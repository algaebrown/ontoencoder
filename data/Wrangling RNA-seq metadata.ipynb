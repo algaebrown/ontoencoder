{
 "cells": [
  {
   "cell_type": "markdown",
   "metadata": {},
   "source": [
    "Tutorial\n",
    "\n",
    "1. [GEOquery-1](https://l.messenger.com/l.php?u=https%3A%2F%2Fkasperdanielhansen.github.io%2Fgenbioconductor%2Fhtml%2FGEOquery.html&h=AT0PYygqo7DFCuH9uEHTYClGKlOsUXS-QE8-xxwu6Bt4vmjpjHzeVzp8G0cmn849aRvsPk03W85AN8VTiQ5SOvLu8yZbr3dWu14j7f7kFsksDW66ad0STAgqHfm5gCuUb4QcCw)\n",
    "2. [GEOquery-2](http://genomicsclass.github.io/book/pages/GEOquery.html)\n",
    "3. [Series Matrix File v.s. Raw Data](https://www.researchgate.net/post/What_do_the_series_matrix_files_signify_in_GEO_data_Where_do_I_get_the_raw_data_for_meaningful_re-analysis_meta_analysis)\n",
    "4. [RPKM TPM](https://www.rna-seqblog.com/rpkm-fpkm-and-tpm-clearly-explained/)"
   ]
  },
  {
   "cell_type": "markdown",
   "metadata": {},
   "source": [
    "# A script to get original cell label\n",
    "\n",
    "- we don't need the count matrix\n",
    "- only need the metadata\n",
    "\n",
    "Get information about\n",
    "- age\n",
    "- cell type\n",
    "- sex\n",
    "- tissue\n",
    "- and SRP ID (to map to our result)"
   ]
  },
  {
   "cell_type": "code",
   "execution_count": 1,
   "metadata": {},
   "outputs": [
    {
     "name": "stderr",
     "output_type": "stream",
     "text": [
      "\n",
      "Attaching package: ‘dplyr’\n",
      "\n",
      "The following objects are masked from ‘package:stats’:\n",
      "\n",
      "    filter, lag\n",
      "\n",
      "The following objects are masked from ‘package:base’:\n",
      "\n",
      "    intersect, setdiff, setequal, union\n",
      "\n",
      "New names:\n",
      "* `` -> ...1\n"
     ]
    },
    {
     "data": {
      "text/html": [
       "<table>\n",
       "<thead><tr><th scope=col>...1</th><th scope=col>GEO accession</th><th scope=col>species</th><th scope=col>SRA</th></tr></thead>\n",
       "<tbody>\n",
       "\t<tr><td>Darmanis </td><td>GSE67835 </td><td>human    </td><td>SRP057196</td></tr>\n",
       "\t<tr><td>Zhang    </td><td>GSE73721 </td><td>human    </td><td>SRP064454</td></tr>\n",
       "\t<tr><td>Zhang    </td><td>GSE52564 </td><td>mouse    </td><td>SRP033200</td></tr>\n",
       "\t<tr><td>Zeisel   </td><td>GSE60361 </td><td>mouse    </td><td>SRP045452</td></tr>\n",
       "\t<tr><td>Tasic    </td><td>GSE71585 </td><td>mouse    </td><td>SRP061902</td></tr>\n",
       "</tbody>\n",
       "</table>\n"
      ],
      "text/latex": [
       "\\begin{tabular}{r|llll}\n",
       " ...1 & GEO accession & species & SRA\\\\\n",
       "\\hline\n",
       "\t Darmanis  & GSE67835  & human     & SRP057196\\\\\n",
       "\t Zhang     & GSE73721  & human     & SRP064454\\\\\n",
       "\t Zhang     & GSE52564  & mouse     & SRP033200\\\\\n",
       "\t Zeisel    & GSE60361  & mouse     & SRP045452\\\\\n",
       "\t Tasic     & GSE71585  & mouse     & SRP061902\\\\\n",
       "\\end{tabular}\n"
      ],
      "text/markdown": [
       "\n",
       "| ...1 | GEO accession | species | SRA |\n",
       "|---|---|---|---|\n",
       "| Darmanis  | GSE67835  | human     | SRP057196 |\n",
       "| Zhang     | GSE73721  | human     | SRP064454 |\n",
       "| Zhang     | GSE52564  | mouse     | SRP033200 |\n",
       "| Zeisel    | GSE60361  | mouse     | SRP045452 |\n",
       "| Tasic     | GSE71585  | mouse     | SRP061902 |\n",
       "\n"
      ],
      "text/plain": [
       "  ...1     GEO accession species SRA      \n",
       "1 Darmanis GSE67835      human   SRP057196\n",
       "2 Zhang    GSE73721      human   SRP064454\n",
       "3 Zhang    GSE52564      mouse   SRP033200\n",
       "4 Zeisel   GSE60361      mouse   SRP045452\n",
       "5 Tasic    GSE71585      mouse   SRP061902"
      ]
     },
     "metadata": {},
     "output_type": "display_data"
    }
   ],
   "source": [
    "library(dplyr)\n",
    "library(tidyr)\n",
    "library(readxl)\n",
    "target_directory = '/cellar/users/hsher/Data/ideker/sc/'\n",
    "\n",
    "# connect to SRA to map SRX to SRR\n",
    "suppressMessages(library(SRAdb))\n",
    "srafile = '/cellar/users/hsher/ontoencoder/data/SRAmetadb.sqlite'\n",
    "sra_con <- dbConnect(SQLite(),srafile)\n",
    "\n",
    "\n",
    "geo = read_excel('RNA-seq.xlsx')\n",
    "\n",
    "# datasets to download\n",
    "geo\n",
    "\n",
    "suppressMessages(library(GEOquery))"
   ]
  },
  {
   "cell_type": "markdown",
   "metadata": {},
   "source": [
    "### not needed: we do not need the processed data anymore\n",
    "for (geo_id in as.matrix(geo_ids)){\n",
    "    print(geo_id)\n",
    "    g_series_matrix <- getGEO(GEO = geo_id, destdir = target_directory)\n",
    "    g_raw = getGEOSuppFiles(geo_id, baseDir = target_directory)\n",
    "    \n",
    "}"
   ]
  },
  {
   "cell_type": "markdown",
   "metadata": {},
   "source": [
    "# parse metadata for GSE67835"
   ]
  },
  {
   "cell_type": "code",
   "execution_count": 2,
   "metadata": {},
   "outputs": [
    {
     "name": "stderr",
     "output_type": "stream",
     "text": [
      "Found 2 file(s)\n",
      "GSE67835-GPL15520_series_matrix.txt.gz\n",
      "Using locally cached version: /cellar/users/hsher/Data/ideker/sc//GSE67835-GPL15520_series_matrix.txt.gz\n",
      "Parsed with column specification:\n",
      "cols(\n",
      "  .default = col_character()\n",
      ")\n",
      "See spec(...) for full column specifications.\n",
      "Using locally cached version of GPL15520 found here:\n",
      "/cellar/users/hsher/Data/ideker/sc//GPL15520.soft \n",
      "GSE67835-GPL18573_series_matrix.txt.gz\n",
      "Using locally cached version: /cellar/users/hsher/Data/ideker/sc//GSE67835-GPL18573_series_matrix.txt.gz\n",
      "Parsed with column specification:\n",
      "cols(\n",
      "  .default = col_character()\n",
      ")\n",
      "See spec(...) for full column specifications.\n",
      "Using locally cached version of GPL18573 found here:\n",
      "/cellar/users/hsher/Data/ideker/sc//GPL18573.soft \n"
     ]
    }
   ],
   "source": [
    "g_series_matrix <- getGEO(GEO = 'GSE67835', destdir = target_directory)\n",
    "\n",
    "# there are two files\n",
    "d1 = as.data.frame.matrix(pData(g_series_matrix$`GSE67835-GPL15520_series_matrix.txt.gz`))\n",
    "d2 = as.data.frame.matrix(pData(g_series_matrix$`GSE67835-GPL18573_series_matrix.txt.gz`))\n",
    "d<-rbind(d1,d2)\n",
    "\n",
    "metadata_of_interest = c('geo_accession', 'characteristics_ch1.1', 'characteristics_ch1.2', 'relation.1' ,'supplementary_file_1', 'tissue:ch1')\n",
    "d <-d[, metadata_of_interest]\n",
    "\n",
    "d %>% tidyr::separate(characteristics_ch1.1, \n",
    "                c(\"nothing\", \"cell type\"), sep = ': ') ->d\n",
    "d %>% tidyr::separate(characteristics_ch1.2, \n",
    "                c(\"nothing\", \"age\"), sep = \":\") -> d\n",
    "d %>% tidyr::separate(relation.1,\n",
    "                c(\"nothing\", \"SRX\"), sep = '=') -> d\n",
    "\n",
    "metadata_of_interest = c('cell type', 'age', 'SRX', 'tissue:ch1')\n",
    "d <-d[, metadata_of_interest]"
   ]
  },
  {
   "cell_type": "code",
   "execution_count": 3,
   "metadata": {},
   "outputs": [
    {
     "data": {
      "text/html": [
       "<table>\n",
       "<thead><tr><th></th><th scope=col>cell type</th><th scope=col>age</th><th scope=col>SRX</th><th scope=col>tissue</th><th scope=col>GSM</th></tr></thead>\n",
       "<tbody>\n",
       "\t<tr><th scope=row>GSM1657992</th><td>astrocytes         </td><td> postnatal 47 years</td><td>SRX995982          </td><td>cortex             </td><td>GSM1657992         </td></tr>\n",
       "\t<tr><th scope=row>GSM1657993</th><td>endothelial        </td><td> postnatal 47 years</td><td>SRX995983          </td><td>cortex             </td><td>GSM1657993         </td></tr>\n",
       "\t<tr><th scope=row>GSM1657994</th><td>microglia          </td><td> postnatal 47 years</td><td>SRX995984          </td><td>cortex             </td><td>GSM1657994         </td></tr>\n",
       "\t<tr><th scope=row>GSM1657995</th><td>endothelial        </td><td> postnatal 47 years</td><td>SRX995985          </td><td>cortex             </td><td>GSM1657995         </td></tr>\n",
       "\t<tr><th scope=row>GSM1657996</th><td>microglia          </td><td> postnatal 47 years</td><td>SRX995986          </td><td>cortex             </td><td>GSM1657996         </td></tr>\n",
       "\t<tr><th scope=row>GSM1657997</th><td>microglia          </td><td> postnatal 63 years</td><td>SRX995987          </td><td>cortex             </td><td>GSM1657997         </td></tr>\n",
       "</tbody>\n",
       "</table>\n"
      ],
      "text/latex": [
       "\\begin{tabular}{r|lllll}\n",
       "  & cell type & age & SRX & tissue & GSM\\\\\n",
       "\\hline\n",
       "\tGSM1657992 & astrocytes          &  postnatal 47 years & SRX995982           & cortex              & GSM1657992         \\\\\n",
       "\tGSM1657993 & endothelial         &  postnatal 47 years & SRX995983           & cortex              & GSM1657993         \\\\\n",
       "\tGSM1657994 & microglia           &  postnatal 47 years & SRX995984           & cortex              & GSM1657994         \\\\\n",
       "\tGSM1657995 & endothelial         &  postnatal 47 years & SRX995985           & cortex              & GSM1657995         \\\\\n",
       "\tGSM1657996 & microglia           &  postnatal 47 years & SRX995986           & cortex              & GSM1657996         \\\\\n",
       "\tGSM1657997 & microglia           &  postnatal 63 years & SRX995987           & cortex              & GSM1657997         \\\\\n",
       "\\end{tabular}\n"
      ],
      "text/markdown": [
       "\n",
       "| <!--/--> | cell type | age | SRX | tissue | GSM |\n",
       "|---|---|---|---|---|---|\n",
       "| GSM1657992 | astrocytes          |  postnatal 47 years | SRX995982           | cortex              | GSM1657992          |\n",
       "| GSM1657993 | endothelial         |  postnatal 47 years | SRX995983           | cortex              | GSM1657993          |\n",
       "| GSM1657994 | microglia           |  postnatal 47 years | SRX995984           | cortex              | GSM1657994          |\n",
       "| GSM1657995 | endothelial         |  postnatal 47 years | SRX995985           | cortex              | GSM1657995          |\n",
       "| GSM1657996 | microglia           |  postnatal 47 years | SRX995986           | cortex              | GSM1657996          |\n",
       "| GSM1657997 | microglia           |  postnatal 63 years | SRX995987           | cortex              | GSM1657997          |\n",
       "\n"
      ],
      "text/plain": [
       "           cell type   age                 SRX       tissue GSM       \n",
       "GSM1657992 astrocytes   postnatal 47 years SRX995982 cortex GSM1657992\n",
       "GSM1657993 endothelial  postnatal 47 years SRX995983 cortex GSM1657993\n",
       "GSM1657994 microglia    postnatal 47 years SRX995984 cortex GSM1657994\n",
       "GSM1657995 endothelial  postnatal 47 years SRX995985 cortex GSM1657995\n",
       "GSM1657996 microglia    postnatal 47 years SRX995986 cortex GSM1657996\n",
       "GSM1657997 microglia    postnatal 63 years SRX995987 cortex GSM1657997"
      ]
     },
     "metadata": {},
     "output_type": "display_data"
    }
   ],
   "source": [
    "\n",
    "colnames(d) <- c('cell type', 'age', 'SRX', 'tissue')\n",
    "d[,'GSM'] <- rownames(d)\n",
    "head(d)"
   ]
  },
  {
   "cell_type": "code",
   "execution_count": 4,
   "metadata": {},
   "outputs": [],
   "source": [
    "# map SRX to SRR #SRP057196\n",
    "mapper <- getFASTQinfo('SRP057196',sra_con)[,c('run', 'experiment')]\n",
    "mapper <- mapper[!duplicated(mapper),]\n",
    "merged_d<- merge(mapper, d, by.x = 'experiment', by.y = 'SRX')\n"
   ]
  },
  {
   "cell_type": "code",
   "execution_count": 5,
   "metadata": {},
   "outputs": [
    {
     "data": {
      "text/html": [
       "<table>\n",
       "<thead><tr><th scope=col>experiment</th><th scope=col>run</th><th scope=col>cell type</th><th scope=col>age</th><th scope=col>tissue</th><th scope=col>GSM</th></tr></thead>\n",
       "<tbody>\n",
       "\t<tr><td>SRX995861          </td><td>SRR1974543         </td><td>oligodendrocytes   </td><td> postnatal 54 years</td><td>cortex             </td><td>GSM1657871         </td></tr>\n",
       "\t<tr><td>SRX995862          </td><td>SRR1974544         </td><td>hybrid             </td><td> postnatal 54 years</td><td>cortex             </td><td>GSM1657872         </td></tr>\n",
       "\t<tr><td>SRX995863          </td><td>SRR1974545         </td><td>oligodendrocytes   </td><td> postnatal 54 years</td><td>cortex             </td><td>GSM1657873         </td></tr>\n",
       "\t<tr><td>SRX995864          </td><td>SRR1974546         </td><td>hybrid             </td><td> postnatal 54 years</td><td>cortex             </td><td>GSM1657874         </td></tr>\n",
       "\t<tr><td>SRX995865          </td><td>SRR1974547         </td><td>hybrid             </td><td> postnatal 54 years</td><td>cortex             </td><td>GSM1657875         </td></tr>\n",
       "\t<tr><td>SRX995866          </td><td>SRR1974548         </td><td>oligodendrocytes   </td><td> postnatal 54 years</td><td>cortex             </td><td>GSM1657876         </td></tr>\n",
       "</tbody>\n",
       "</table>\n"
      ],
      "text/latex": [
       "\\begin{tabular}{r|llllll}\n",
       " experiment & run & cell type & age & tissue & GSM\\\\\n",
       "\\hline\n",
       "\t SRX995861           & SRR1974543          & oligodendrocytes    &  postnatal 54 years & cortex              & GSM1657871         \\\\\n",
       "\t SRX995862           & SRR1974544          & hybrid              &  postnatal 54 years & cortex              & GSM1657872         \\\\\n",
       "\t SRX995863           & SRR1974545          & oligodendrocytes    &  postnatal 54 years & cortex              & GSM1657873         \\\\\n",
       "\t SRX995864           & SRR1974546          & hybrid              &  postnatal 54 years & cortex              & GSM1657874         \\\\\n",
       "\t SRX995865           & SRR1974547          & hybrid              &  postnatal 54 years & cortex              & GSM1657875         \\\\\n",
       "\t SRX995866           & SRR1974548          & oligodendrocytes    &  postnatal 54 years & cortex              & GSM1657876         \\\\\n",
       "\\end{tabular}\n"
      ],
      "text/markdown": [
       "\n",
       "| experiment | run | cell type | age | tissue | GSM |\n",
       "|---|---|---|---|---|---|\n",
       "| SRX995861           | SRR1974543          | oligodendrocytes    |  postnatal 54 years | cortex              | GSM1657871          |\n",
       "| SRX995862           | SRR1974544          | hybrid              |  postnatal 54 years | cortex              | GSM1657872          |\n",
       "| SRX995863           | SRR1974545          | oligodendrocytes    |  postnatal 54 years | cortex              | GSM1657873          |\n",
       "| SRX995864           | SRR1974546          | hybrid              |  postnatal 54 years | cortex              | GSM1657874          |\n",
       "| SRX995865           | SRR1974547          | hybrid              |  postnatal 54 years | cortex              | GSM1657875          |\n",
       "| SRX995866           | SRR1974548          | oligodendrocytes    |  postnatal 54 years | cortex              | GSM1657876          |\n",
       "\n"
      ],
      "text/plain": [
       "  experiment run        cell type        age                 tissue GSM       \n",
       "1 SRX995861  SRR1974543 oligodendrocytes  postnatal 54 years cortex GSM1657871\n",
       "2 SRX995862  SRR1974544 hybrid            postnatal 54 years cortex GSM1657872\n",
       "3 SRX995863  SRR1974545 oligodendrocytes  postnatal 54 years cortex GSM1657873\n",
       "4 SRX995864  SRR1974546 hybrid            postnatal 54 years cortex GSM1657874\n",
       "5 SRX995865  SRR1974547 hybrid            postnatal 54 years cortex GSM1657875\n",
       "6 SRX995866  SRR1974548 oligodendrocytes  postnatal 54 years cortex GSM1657876"
      ]
     },
     "metadata": {},
     "output_type": "display_data"
    }
   ],
   "source": [
    "head(merged_d)"
   ]
  },
  {
   "cell_type": "code",
   "execution_count": 6,
   "metadata": {},
   "outputs": [],
   "source": [
    "merged_d %>% write.csv('GSE67835_metadata.csv')"
   ]
  },
  {
   "cell_type": "markdown",
   "metadata": {},
   "source": [
    "# GSE73721"
   ]
  },
  {
   "cell_type": "code",
   "execution_count": 7,
   "metadata": {},
   "outputs": [
    {
     "name": "stderr",
     "output_type": "stream",
     "text": [
      "Found 2 file(s)\n",
      "GSE73721-GPL18573_series_matrix.txt.gz\n",
      "Using locally cached version: /cellar/users/hsher/Data/ideker/sc//GSE73721-GPL18573_series_matrix.txt.gz\n",
      "Parsed with column specification:\n",
      "cols(\n",
      "  .default = col_character()\n",
      ")\n",
      "See spec(...) for full column specifications.\n",
      "Using locally cached version of GPL18573 found here:\n",
      "/cellar/users/hsher/Data/ideker/sc//GPL18573.soft \n",
      "GSE73721-GPL19057_series_matrix.txt.gz\n",
      "Using locally cached version: /cellar/users/hsher/Data/ideker/sc//GSE73721-GPL19057_series_matrix.txt.gz\n",
      "Parsed with column specification:\n",
      "cols(\n",
      "  ID_REF = col_character(),\n",
      "  GSM1901329 = col_character(),\n",
      "  GSM1901330 = col_character(),\n",
      "  GSM1901331 = col_character(),\n",
      "  GSM1901332 = col_character()\n",
      ")\n",
      "Using locally cached version of GPL19057 found here:\n",
      "/cellar/users/hsher/Data/ideker/sc//GPL19057.soft \n",
      "Warning message:\n",
      "“Expected 2 pieces. Additional pieces discarded in 31 rows [7, 8, 9, 10, 11, 12, 13, 14, 15, 16, 17, 18, 19, 20, 21, 22, 27, 28, 29, 30, ...].”Warning message:\n",
      "“Expected 2 pieces. Missing pieces filled with `NA` in 4 rows [23, 24, 25, 26].”"
     ]
    }
   ],
   "source": [
    "g_series_matrix <- getGEO(GEO = 'GSE73721', destdir = target_directory)\n",
    "d1 = as.data.frame.matrix(pData(g_series_matrix$'GSE73721-GPL18573_series_matrix.txt.gz'))\n",
    "d2 = as.data.frame.matrix(pData(g_series_matrix$'GSE73721-GPL19057_series_matrix.txt.gz'))\n",
    "d<- rbind(d1, d2)\n",
    "\n",
    "metadata_of_interest = c('cell type:ch1', 'relation.1', 'source_name_ch1', 'age:ch1')\n",
    "d <-d[, metadata_of_interest]\n",
    "\n",
    "d %>% tidyr::separate(relation.1,\n",
    "                c(\"nothing\", \"SRX\"), sep = '=') -> d\n",
    "d %>% tidyr::separate(source_name_ch1, \n",
    "                c(\"maturity\", \"tissue\"), sep = ' ') ->d\n",
    "#d %>% tidyr::separate(age:ch1, \n",
    "#                c(\"nothing\", \"age\"), sep = \":\") -> d\n",
    "\n",
    "metadata_of_interest = c('cell type:ch1','SRX','maturity','tissue', 'age:ch1' )\n",
    "d <- d[, metadata_of_interest]\n",
    "colnames(d) <- c('cell type','SRX','maturity','tissue', 'age' )"
   ]
  },
  {
   "cell_type": "code",
   "execution_count": 8,
   "metadata": {},
   "outputs": [
    {
     "data": {
      "text/html": [
       "<table>\n",
       "<thead><tr><th></th><th scope=col>cell type</th><th scope=col>SRX</th><th scope=col>maturity</th><th scope=col>tissue</th><th scope=col>age</th><th scope=col>GSM</th></tr></thead>\n",
       "<tbody>\n",
       "\t<tr><th scope=row>GSM1901303</th><td>Astrocyte             </td><td>SRX1303782            </td><td>Fetal                 </td><td>cortex                </td><td>18 gestational weeks  </td><td>GSM1901303            </td></tr>\n",
       "\t<tr><th scope=row>GSM1901304</th><td>Astrocyte             </td><td>SRX1303783            </td><td>Fetal                 </td><td>cortex                </td><td>18 gestational weeks  </td><td>GSM1901304            </td></tr>\n",
       "\t<tr><th scope=row>GSM1901305</th><td>Astrocyte             </td><td>SRX1303784            </td><td>Fetal                 </td><td>cortex                </td><td>18.5 gestational weeks</td><td>GSM1901305            </td></tr>\n",
       "\t<tr><th scope=row>GSM1901306</th><td>Astrocyte             </td><td>SRX1303785            </td><td>Fetal                 </td><td>cortex                </td><td>18.1 gestational weeks</td><td>GSM1901306            </td></tr>\n",
       "\t<tr><th scope=row>GSM1901307</th><td>Astrocyte             </td><td>SRX1303786            </td><td>Fetal                 </td><td>cortex                </td><td>18.5 gestational weeks</td><td>GSM1901307            </td></tr>\n",
       "\t<tr><th scope=row>GSM1901308</th><td>Astrocyte             </td><td>SRX1303787            </td><td>Fetal                 </td><td>cortex                </td><td>18.5 gestational weeks</td><td>GSM1901308            </td></tr>\n",
       "</tbody>\n",
       "</table>\n"
      ],
      "text/latex": [
       "\\begin{tabular}{r|llllll}\n",
       "  & cell type & SRX & maturity & tissue & age & GSM\\\\\n",
       "\\hline\n",
       "\tGSM1901303 & Astrocyte              & SRX1303782             & Fetal                  & cortex                 & 18 gestational weeks   & GSM1901303            \\\\\n",
       "\tGSM1901304 & Astrocyte              & SRX1303783             & Fetal                  & cortex                 & 18 gestational weeks   & GSM1901304            \\\\\n",
       "\tGSM1901305 & Astrocyte              & SRX1303784             & Fetal                  & cortex                 & 18.5 gestational weeks & GSM1901305            \\\\\n",
       "\tGSM1901306 & Astrocyte              & SRX1303785             & Fetal                  & cortex                 & 18.1 gestational weeks & GSM1901306            \\\\\n",
       "\tGSM1901307 & Astrocyte              & SRX1303786             & Fetal                  & cortex                 & 18.5 gestational weeks & GSM1901307            \\\\\n",
       "\tGSM1901308 & Astrocyte              & SRX1303787             & Fetal                  & cortex                 & 18.5 gestational weeks & GSM1901308            \\\\\n",
       "\\end{tabular}\n"
      ],
      "text/markdown": [
       "\n",
       "| <!--/--> | cell type | SRX | maturity | tissue | age | GSM |\n",
       "|---|---|---|---|---|---|---|\n",
       "| GSM1901303 | Astrocyte              | SRX1303782             | Fetal                  | cortex                 | 18 gestational weeks   | GSM1901303             |\n",
       "| GSM1901304 | Astrocyte              | SRX1303783             | Fetal                  | cortex                 | 18 gestational weeks   | GSM1901304             |\n",
       "| GSM1901305 | Astrocyte              | SRX1303784             | Fetal                  | cortex                 | 18.5 gestational weeks | GSM1901305             |\n",
       "| GSM1901306 | Astrocyte              | SRX1303785             | Fetal                  | cortex                 | 18.1 gestational weeks | GSM1901306             |\n",
       "| GSM1901307 | Astrocyte              | SRX1303786             | Fetal                  | cortex                 | 18.5 gestational weeks | GSM1901307             |\n",
       "| GSM1901308 | Astrocyte              | SRX1303787             | Fetal                  | cortex                 | 18.5 gestational weeks | GSM1901308             |\n",
       "\n"
      ],
      "text/plain": [
       "           cell type SRX        maturity tissue age                   \n",
       "GSM1901303 Astrocyte SRX1303782 Fetal    cortex 18 gestational weeks  \n",
       "GSM1901304 Astrocyte SRX1303783 Fetal    cortex 18 gestational weeks  \n",
       "GSM1901305 Astrocyte SRX1303784 Fetal    cortex 18.5 gestational weeks\n",
       "GSM1901306 Astrocyte SRX1303785 Fetal    cortex 18.1 gestational weeks\n",
       "GSM1901307 Astrocyte SRX1303786 Fetal    cortex 18.5 gestational weeks\n",
       "GSM1901308 Astrocyte SRX1303787 Fetal    cortex 18.5 gestational weeks\n",
       "           GSM       \n",
       "GSM1901303 GSM1901303\n",
       "GSM1901304 GSM1901304\n",
       "GSM1901305 GSM1901305\n",
       "GSM1901306 GSM1901306\n",
       "GSM1901307 GSM1901307\n",
       "GSM1901308 GSM1901308"
      ]
     },
     "metadata": {},
     "output_type": "display_data"
    }
   ],
   "source": [
    "d[, 'GSM']<- rownames(d)\n",
    "head(d)"
   ]
  },
  {
   "cell_type": "code",
   "execution_count": 9,
   "metadata": {},
   "outputs": [],
   "source": [
    "mapper <- getFASTQinfo('SRP064454',sra_con)[,c('run', 'experiment')]\n",
    "mapper <- mapper[!duplicated(mapper),]\n",
    "merged_d<- merge(mapper, d, by.x = 'experiment', by.y = 'SRX')"
   ]
  },
  {
   "cell_type": "code",
   "execution_count": 10,
   "metadata": {},
   "outputs": [
    {
     "data": {
      "text/html": [
       "<table>\n",
       "<thead><tr><th scope=col>experiment</th><th scope=col>run</th><th scope=col>cell type</th><th scope=col>maturity</th><th scope=col>tissue</th><th scope=col>age</th><th scope=col>GSM</th></tr></thead>\n",
       "<tbody>\n",
       "\t<tr><td>SRX1303782            </td><td>SRR2557083            </td><td>Astrocyte             </td><td>Fetal                 </td><td>cortex                </td><td>18 gestational weeks  </td><td>GSM1901303            </td></tr>\n",
       "\t<tr><td>SRX1303783            </td><td>SRR2557084            </td><td>Astrocyte             </td><td>Fetal                 </td><td>cortex                </td><td>18 gestational weeks  </td><td>GSM1901304            </td></tr>\n",
       "\t<tr><td>SRX1303784            </td><td>SRR2557085            </td><td>Astrocyte             </td><td>Fetal                 </td><td>cortex                </td><td>18.5 gestational weeks</td><td>GSM1901305            </td></tr>\n",
       "\t<tr><td>SRX1303785            </td><td>SRR2557086            </td><td>Astrocyte             </td><td>Fetal                 </td><td>cortex                </td><td>18.1 gestational weeks</td><td>GSM1901306            </td></tr>\n",
       "\t<tr><td>SRX1303786            </td><td>SRR2557087            </td><td>Astrocyte             </td><td>Fetal                 </td><td>cortex                </td><td>18.5 gestational weeks</td><td>GSM1901307            </td></tr>\n",
       "\t<tr><td>SRX1303787            </td><td>SRR2557088            </td><td>Astrocyte             </td><td>Fetal                 </td><td>cortex                </td><td>18.5 gestational weeks</td><td>GSM1901308            </td></tr>\n",
       "</tbody>\n",
       "</table>\n"
      ],
      "text/latex": [
       "\\begin{tabular}{r|lllllll}\n",
       " experiment & run & cell type & maturity & tissue & age & GSM\\\\\n",
       "\\hline\n",
       "\t SRX1303782             & SRR2557083             & Astrocyte              & Fetal                  & cortex                 & 18 gestational weeks   & GSM1901303            \\\\\n",
       "\t SRX1303783             & SRR2557084             & Astrocyte              & Fetal                  & cortex                 & 18 gestational weeks   & GSM1901304            \\\\\n",
       "\t SRX1303784             & SRR2557085             & Astrocyte              & Fetal                  & cortex                 & 18.5 gestational weeks & GSM1901305            \\\\\n",
       "\t SRX1303785             & SRR2557086             & Astrocyte              & Fetal                  & cortex                 & 18.1 gestational weeks & GSM1901306            \\\\\n",
       "\t SRX1303786             & SRR2557087             & Astrocyte              & Fetal                  & cortex                 & 18.5 gestational weeks & GSM1901307            \\\\\n",
       "\t SRX1303787             & SRR2557088             & Astrocyte              & Fetal                  & cortex                 & 18.5 gestational weeks & GSM1901308            \\\\\n",
       "\\end{tabular}\n"
      ],
      "text/markdown": [
       "\n",
       "| experiment | run | cell type | maturity | tissue | age | GSM |\n",
       "|---|---|---|---|---|---|---|\n",
       "| SRX1303782             | SRR2557083             | Astrocyte              | Fetal                  | cortex                 | 18 gestational weeks   | GSM1901303             |\n",
       "| SRX1303783             | SRR2557084             | Astrocyte              | Fetal                  | cortex                 | 18 gestational weeks   | GSM1901304             |\n",
       "| SRX1303784             | SRR2557085             | Astrocyte              | Fetal                  | cortex                 | 18.5 gestational weeks | GSM1901305             |\n",
       "| SRX1303785             | SRR2557086             | Astrocyte              | Fetal                  | cortex                 | 18.1 gestational weeks | GSM1901306             |\n",
       "| SRX1303786             | SRR2557087             | Astrocyte              | Fetal                  | cortex                 | 18.5 gestational weeks | GSM1901307             |\n",
       "| SRX1303787             | SRR2557088             | Astrocyte              | Fetal                  | cortex                 | 18.5 gestational weeks | GSM1901308             |\n",
       "\n"
      ],
      "text/plain": [
       "  experiment run        cell type maturity tissue age                   \n",
       "1 SRX1303782 SRR2557083 Astrocyte Fetal    cortex 18 gestational weeks  \n",
       "2 SRX1303783 SRR2557084 Astrocyte Fetal    cortex 18 gestational weeks  \n",
       "3 SRX1303784 SRR2557085 Astrocyte Fetal    cortex 18.5 gestational weeks\n",
       "4 SRX1303785 SRR2557086 Astrocyte Fetal    cortex 18.1 gestational weeks\n",
       "5 SRX1303786 SRR2557087 Astrocyte Fetal    cortex 18.5 gestational weeks\n",
       "6 SRX1303787 SRR2557088 Astrocyte Fetal    cortex 18.5 gestational weeks\n",
       "  GSM       \n",
       "1 GSM1901303\n",
       "2 GSM1901304\n",
       "3 GSM1901305\n",
       "4 GSM1901306\n",
       "5 GSM1901307\n",
       "6 GSM1901308"
      ]
     },
     "metadata": {},
     "output_type": "display_data"
    }
   ],
   "source": [
    "head(merged_d)"
   ]
  },
  {
   "cell_type": "code",
   "execution_count": 11,
   "metadata": {},
   "outputs": [],
   "source": [
    "merged_d %>% write.csv('GSE73721_metadata.csv')"
   ]
  },
  {
   "cell_type": "markdown",
   "metadata": {},
   "source": [
    "# GSE52564"
   ]
  },
  {
   "cell_type": "code",
   "execution_count": 12,
   "metadata": {},
   "outputs": [
    {
     "name": "stderr",
     "output_type": "stream",
     "text": [
      "Found 1 file(s)\n",
      "GSE52564_series_matrix.txt.gz\n",
      "Using locally cached version: /cellar/users/hsher/Data/ideker/sc//GSE52564_series_matrix.txt.gz\n",
      "Parsed with column specification:\n",
      "cols(\n",
      "  ID_REF = col_character(),\n",
      "  GSM1269903 = col_character(),\n",
      "  GSM1269904 = col_character(),\n",
      "  GSM1269905 = col_character(),\n",
      "  GSM1269906 = col_character(),\n",
      "  GSM1269907 = col_character(),\n",
      "  GSM1269908 = col_character(),\n",
      "  GSM1269909 = col_character(),\n",
      "  GSM1269910 = col_character(),\n",
      "  GSM1269911 = col_character(),\n",
      "  GSM1269912 = col_character(),\n",
      "  GSM1269913 = col_character(),\n",
      "  GSM1269914 = col_character(),\n",
      "  GSM1269915 = col_character(),\n",
      "  GSM1269916 = col_character(),\n",
      "  GSM1269917 = col_character(),\n",
      "  GSM1269918 = col_character(),\n",
      "  GSM1269919 = col_character()\n",
      ")\n",
      "Using locally cached version of GPL13112 found here:\n",
      "/cellar/users/hsher/Data/ideker/sc//GPL13112.soft \n"
     ]
    }
   ],
   "source": [
    "g_series_matrix <- getGEO(GEO = 'GSE52564', destdir = target_directory)\n",
    "d <- as.data.frame.matrix(pData(g_series_matrix$GSE52564_series_matrix.txt.gz))\n",
    "metadata_of_interest <- c('tissue:ch1', 'title', 'relation.2', 'relation.3')\n",
    "d <- d[, metadata_of_interest]"
   ]
  },
  {
   "cell_type": "code",
   "execution_count": 13,
   "metadata": {},
   "outputs": [
    {
     "data": {
      "text/html": [
       "<table>\n",
       "<thead><tr><th></th><th scope=col>tissue:ch1</th><th scope=col>title</th><th scope=col>relation.2</th><th scope=col>relation.3</th></tr></thead>\n",
       "<tbody>\n",
       "\t<tr><th scope=row>GSM1269903</th><td>cerebral cortex                                               </td><td>Astrocyte1                                                    </td><td>BioSample: https://www.ncbi.nlm.nih.gov/biosample/SAMN02415123</td><td>SRA: https://www.ncbi.nlm.nih.gov/sra?term=SRX380379          </td></tr>\n",
       "\t<tr><th scope=row>GSM1269904</th><td>cerebral cortex                                               </td><td>Astrocyte2                                                    </td><td>BioSample: https://www.ncbi.nlm.nih.gov/biosample/SAMN02415122</td><td>SRA: https://www.ncbi.nlm.nih.gov/sra?term=SRX380380          </td></tr>\n",
       "\t<tr><th scope=row>GSM1269905</th><td>cerebral cortex                                               </td><td>Neuron1                                                       </td><td>BioSample: https://www.ncbi.nlm.nih.gov/biosample/SAMN02415125</td><td>SRA: https://www.ncbi.nlm.nih.gov/sra?term=SRX380381          </td></tr>\n",
       "\t<tr><th scope=row>GSM1269906</th><td>cerebral cortex                                               </td><td>Neuron2                                                       </td><td>BioSample: https://www.ncbi.nlm.nih.gov/biosample/SAMN02415124</td><td>SRA: https://www.ncbi.nlm.nih.gov/sra?term=SRX380382          </td></tr>\n",
       "\t<tr><th scope=row>GSM1269907</th><td>cerebral cortex                                               </td><td>OPC1                                                          </td><td>SRA: https://www.ncbi.nlm.nih.gov/sra?term=SRX380383          </td><td>                                                              </td></tr>\n",
       "\t<tr><th scope=row>GSM1269908</th><td>cerebral cortex                                               </td><td>OPC2                                                          </td><td>SRA: https://www.ncbi.nlm.nih.gov/sra?term=SRX380384          </td><td>                                                              </td></tr>\n",
       "\t<tr><th scope=row>GSM1269909</th><td>cerebral cortex                                               </td><td>NFO1                                                          </td><td>SRA: https://www.ncbi.nlm.nih.gov/sra?term=SRX380385          </td><td>                                                              </td></tr>\n",
       "\t<tr><th scope=row>GSM1269910</th><td>cerebral cortex                                               </td><td>NFO2                                                          </td><td>SRA: https://www.ncbi.nlm.nih.gov/sra?term=SRX380386          </td><td>                                                              </td></tr>\n",
       "\t<tr><th scope=row>GSM1269911</th><td>cerebral cortex                                               </td><td>MO1                                                           </td><td>BioSample: https://www.ncbi.nlm.nih.gov/biosample/SAMN02415132</td><td>SRA: https://www.ncbi.nlm.nih.gov/sra?term=SRX380387          </td></tr>\n",
       "\t<tr><th scope=row>GSM1269912</th><td>cerebral cortex                                               </td><td>MO2                                                           </td><td>BioSample: https://www.ncbi.nlm.nih.gov/biosample/SAMN02415129</td><td>SRA: https://www.ncbi.nlm.nih.gov/sra?term=SRX380388          </td></tr>\n",
       "\t<tr><th scope=row>GSM1269913</th><td>cerebral cortex                                               </td><td>Microglia1                                                    </td><td>BioSample: https://www.ncbi.nlm.nih.gov/biosample/SAMN02415133</td><td>SRA: https://www.ncbi.nlm.nih.gov/sra?term=SRX380389          </td></tr>\n",
       "\t<tr><th scope=row>GSM1269914</th><td>cerebral cortex                                               </td><td>Microglia2                                                    </td><td>BioSample: https://www.ncbi.nlm.nih.gov/biosample/SAMN02415128</td><td>SRA: https://www.ncbi.nlm.nih.gov/sra?term=SRX380390          </td></tr>\n",
       "\t<tr><th scope=row>GSM1269915</th><td>cerebral cortex                                               </td><td>Endothelial1                                                  </td><td>BioSample: https://www.ncbi.nlm.nih.gov/biosample/SAMN02415136</td><td>SRA: https://www.ncbi.nlm.nih.gov/sra?term=SRX380391          </td></tr>\n",
       "\t<tr><th scope=row>GSM1269916</th><td>cerebral cortex                                               </td><td>Endothelial2                                                  </td><td>BioSample: https://www.ncbi.nlm.nih.gov/biosample/SAMN02415134</td><td>SRA: https://www.ncbi.nlm.nih.gov/sra?term=SRX380392          </td></tr>\n",
       "\t<tr><th scope=row>GSM1269917</th><td>cerebral cortex                                               </td><td>WC1                                                           </td><td>SRA: https://www.ncbi.nlm.nih.gov/sra?term=SRX380393          </td><td>                                                              </td></tr>\n",
       "\t<tr><th scope=row>GSM1269918</th><td>cerebral cortex                                               </td><td>WC2                                                           </td><td>SRA: https://www.ncbi.nlm.nih.gov/sra?term=SRX380394          </td><td>                                                              </td></tr>\n",
       "\t<tr><th scope=row>GSM1269919</th><td>cerebral cortex                                               </td><td>WC3                                                           </td><td>SRA: https://www.ncbi.nlm.nih.gov/sra?term=SRX380395          </td><td>                                                              </td></tr>\n",
       "</tbody>\n",
       "</table>\n"
      ],
      "text/latex": [
       "\\begin{tabular}{r|llll}\n",
       "  & tissue:ch1 & title & relation.2 & relation.3\\\\\n",
       "\\hline\n",
       "\tGSM1269903 & cerebral cortex                                                & Astrocyte1                                                     & BioSample: https://www.ncbi.nlm.nih.gov/biosample/SAMN02415123 & SRA: https://www.ncbi.nlm.nih.gov/sra?term=SRX380379          \\\\\n",
       "\tGSM1269904 & cerebral cortex                                                & Astrocyte2                                                     & BioSample: https://www.ncbi.nlm.nih.gov/biosample/SAMN02415122 & SRA: https://www.ncbi.nlm.nih.gov/sra?term=SRX380380          \\\\\n",
       "\tGSM1269905 & cerebral cortex                                                & Neuron1                                                        & BioSample: https://www.ncbi.nlm.nih.gov/biosample/SAMN02415125 & SRA: https://www.ncbi.nlm.nih.gov/sra?term=SRX380381          \\\\\n",
       "\tGSM1269906 & cerebral cortex                                                & Neuron2                                                        & BioSample: https://www.ncbi.nlm.nih.gov/biosample/SAMN02415124 & SRA: https://www.ncbi.nlm.nih.gov/sra?term=SRX380382          \\\\\n",
       "\tGSM1269907 & cerebral cortex                                                & OPC1                                                           & SRA: https://www.ncbi.nlm.nih.gov/sra?term=SRX380383           &                                                               \\\\\n",
       "\tGSM1269908 & cerebral cortex                                                & OPC2                                                           & SRA: https://www.ncbi.nlm.nih.gov/sra?term=SRX380384           &                                                               \\\\\n",
       "\tGSM1269909 & cerebral cortex                                                & NFO1                                                           & SRA: https://www.ncbi.nlm.nih.gov/sra?term=SRX380385           &                                                               \\\\\n",
       "\tGSM1269910 & cerebral cortex                                                & NFO2                                                           & SRA: https://www.ncbi.nlm.nih.gov/sra?term=SRX380386           &                                                               \\\\\n",
       "\tGSM1269911 & cerebral cortex                                                & MO1                                                            & BioSample: https://www.ncbi.nlm.nih.gov/biosample/SAMN02415132 & SRA: https://www.ncbi.nlm.nih.gov/sra?term=SRX380387          \\\\\n",
       "\tGSM1269912 & cerebral cortex                                                & MO2                                                            & BioSample: https://www.ncbi.nlm.nih.gov/biosample/SAMN02415129 & SRA: https://www.ncbi.nlm.nih.gov/sra?term=SRX380388          \\\\\n",
       "\tGSM1269913 & cerebral cortex                                                & Microglia1                                                     & BioSample: https://www.ncbi.nlm.nih.gov/biosample/SAMN02415133 & SRA: https://www.ncbi.nlm.nih.gov/sra?term=SRX380389          \\\\\n",
       "\tGSM1269914 & cerebral cortex                                                & Microglia2                                                     & BioSample: https://www.ncbi.nlm.nih.gov/biosample/SAMN02415128 & SRA: https://www.ncbi.nlm.nih.gov/sra?term=SRX380390          \\\\\n",
       "\tGSM1269915 & cerebral cortex                                                & Endothelial1                                                   & BioSample: https://www.ncbi.nlm.nih.gov/biosample/SAMN02415136 & SRA: https://www.ncbi.nlm.nih.gov/sra?term=SRX380391          \\\\\n",
       "\tGSM1269916 & cerebral cortex                                                & Endothelial2                                                   & BioSample: https://www.ncbi.nlm.nih.gov/biosample/SAMN02415134 & SRA: https://www.ncbi.nlm.nih.gov/sra?term=SRX380392          \\\\\n",
       "\tGSM1269917 & cerebral cortex                                                & WC1                                                            & SRA: https://www.ncbi.nlm.nih.gov/sra?term=SRX380393           &                                                               \\\\\n",
       "\tGSM1269918 & cerebral cortex                                                & WC2                                                            & SRA: https://www.ncbi.nlm.nih.gov/sra?term=SRX380394           &                                                               \\\\\n",
       "\tGSM1269919 & cerebral cortex                                                & WC3                                                            & SRA: https://www.ncbi.nlm.nih.gov/sra?term=SRX380395           &                                                               \\\\\n",
       "\\end{tabular}\n"
      ],
      "text/markdown": [
       "\n",
       "| <!--/--> | tissue:ch1 | title | relation.2 | relation.3 |\n",
       "|---|---|---|---|---|\n",
       "| GSM1269903 | cerebral cortex                                                | Astrocyte1                                                     | BioSample: https://www.ncbi.nlm.nih.gov/biosample/SAMN02415123 | SRA: https://www.ncbi.nlm.nih.gov/sra?term=SRX380379           |\n",
       "| GSM1269904 | cerebral cortex                                                | Astrocyte2                                                     | BioSample: https://www.ncbi.nlm.nih.gov/biosample/SAMN02415122 | SRA: https://www.ncbi.nlm.nih.gov/sra?term=SRX380380           |\n",
       "| GSM1269905 | cerebral cortex                                                | Neuron1                                                        | BioSample: https://www.ncbi.nlm.nih.gov/biosample/SAMN02415125 | SRA: https://www.ncbi.nlm.nih.gov/sra?term=SRX380381           |\n",
       "| GSM1269906 | cerebral cortex                                                | Neuron2                                                        | BioSample: https://www.ncbi.nlm.nih.gov/biosample/SAMN02415124 | SRA: https://www.ncbi.nlm.nih.gov/sra?term=SRX380382           |\n",
       "| GSM1269907 | cerebral cortex                                                | OPC1                                                           | SRA: https://www.ncbi.nlm.nih.gov/sra?term=SRX380383           |                                                                |\n",
       "| GSM1269908 | cerebral cortex                                                | OPC2                                                           | SRA: https://www.ncbi.nlm.nih.gov/sra?term=SRX380384           |                                                                |\n",
       "| GSM1269909 | cerebral cortex                                                | NFO1                                                           | SRA: https://www.ncbi.nlm.nih.gov/sra?term=SRX380385           |                                                                |\n",
       "| GSM1269910 | cerebral cortex                                                | NFO2                                                           | SRA: https://www.ncbi.nlm.nih.gov/sra?term=SRX380386           |                                                                |\n",
       "| GSM1269911 | cerebral cortex                                                | MO1                                                            | BioSample: https://www.ncbi.nlm.nih.gov/biosample/SAMN02415132 | SRA: https://www.ncbi.nlm.nih.gov/sra?term=SRX380387           |\n",
       "| GSM1269912 | cerebral cortex                                                | MO2                                                            | BioSample: https://www.ncbi.nlm.nih.gov/biosample/SAMN02415129 | SRA: https://www.ncbi.nlm.nih.gov/sra?term=SRX380388           |\n",
       "| GSM1269913 | cerebral cortex                                                | Microglia1                                                     | BioSample: https://www.ncbi.nlm.nih.gov/biosample/SAMN02415133 | SRA: https://www.ncbi.nlm.nih.gov/sra?term=SRX380389           |\n",
       "| GSM1269914 | cerebral cortex                                                | Microglia2                                                     | BioSample: https://www.ncbi.nlm.nih.gov/biosample/SAMN02415128 | SRA: https://www.ncbi.nlm.nih.gov/sra?term=SRX380390           |\n",
       "| GSM1269915 | cerebral cortex                                                | Endothelial1                                                   | BioSample: https://www.ncbi.nlm.nih.gov/biosample/SAMN02415136 | SRA: https://www.ncbi.nlm.nih.gov/sra?term=SRX380391           |\n",
       "| GSM1269916 | cerebral cortex                                                | Endothelial2                                                   | BioSample: https://www.ncbi.nlm.nih.gov/biosample/SAMN02415134 | SRA: https://www.ncbi.nlm.nih.gov/sra?term=SRX380392           |\n",
       "| GSM1269917 | cerebral cortex                                                | WC1                                                            | SRA: https://www.ncbi.nlm.nih.gov/sra?term=SRX380393           |                                                                |\n",
       "| GSM1269918 | cerebral cortex                                                | WC2                                                            | SRA: https://www.ncbi.nlm.nih.gov/sra?term=SRX380394           |                                                                |\n",
       "| GSM1269919 | cerebral cortex                                                | WC3                                                            | SRA: https://www.ncbi.nlm.nih.gov/sra?term=SRX380395           |                                                                |\n",
       "\n"
      ],
      "text/plain": [
       "           tissue:ch1      title       \n",
       "GSM1269903 cerebral cortex Astrocyte1  \n",
       "GSM1269904 cerebral cortex Astrocyte2  \n",
       "GSM1269905 cerebral cortex Neuron1     \n",
       "GSM1269906 cerebral cortex Neuron2     \n",
       "GSM1269907 cerebral cortex OPC1        \n",
       "GSM1269908 cerebral cortex OPC2        \n",
       "GSM1269909 cerebral cortex NFO1        \n",
       "GSM1269910 cerebral cortex NFO2        \n",
       "GSM1269911 cerebral cortex MO1         \n",
       "GSM1269912 cerebral cortex MO2         \n",
       "GSM1269913 cerebral cortex Microglia1  \n",
       "GSM1269914 cerebral cortex Microglia2  \n",
       "GSM1269915 cerebral cortex Endothelial1\n",
       "GSM1269916 cerebral cortex Endothelial2\n",
       "GSM1269917 cerebral cortex WC1         \n",
       "GSM1269918 cerebral cortex WC2         \n",
       "GSM1269919 cerebral cortex WC3         \n",
       "           relation.2                                                    \n",
       "GSM1269903 BioSample: https://www.ncbi.nlm.nih.gov/biosample/SAMN02415123\n",
       "GSM1269904 BioSample: https://www.ncbi.nlm.nih.gov/biosample/SAMN02415122\n",
       "GSM1269905 BioSample: https://www.ncbi.nlm.nih.gov/biosample/SAMN02415125\n",
       "GSM1269906 BioSample: https://www.ncbi.nlm.nih.gov/biosample/SAMN02415124\n",
       "GSM1269907 SRA: https://www.ncbi.nlm.nih.gov/sra?term=SRX380383          \n",
       "GSM1269908 SRA: https://www.ncbi.nlm.nih.gov/sra?term=SRX380384          \n",
       "GSM1269909 SRA: https://www.ncbi.nlm.nih.gov/sra?term=SRX380385          \n",
       "GSM1269910 SRA: https://www.ncbi.nlm.nih.gov/sra?term=SRX380386          \n",
       "GSM1269911 BioSample: https://www.ncbi.nlm.nih.gov/biosample/SAMN02415132\n",
       "GSM1269912 BioSample: https://www.ncbi.nlm.nih.gov/biosample/SAMN02415129\n",
       "GSM1269913 BioSample: https://www.ncbi.nlm.nih.gov/biosample/SAMN02415133\n",
       "GSM1269914 BioSample: https://www.ncbi.nlm.nih.gov/biosample/SAMN02415128\n",
       "GSM1269915 BioSample: https://www.ncbi.nlm.nih.gov/biosample/SAMN02415136\n",
       "GSM1269916 BioSample: https://www.ncbi.nlm.nih.gov/biosample/SAMN02415134\n",
       "GSM1269917 SRA: https://www.ncbi.nlm.nih.gov/sra?term=SRX380393          \n",
       "GSM1269918 SRA: https://www.ncbi.nlm.nih.gov/sra?term=SRX380394          \n",
       "GSM1269919 SRA: https://www.ncbi.nlm.nih.gov/sra?term=SRX380395          \n",
       "           relation.3                                          \n",
       "GSM1269903 SRA: https://www.ncbi.nlm.nih.gov/sra?term=SRX380379\n",
       "GSM1269904 SRA: https://www.ncbi.nlm.nih.gov/sra?term=SRX380380\n",
       "GSM1269905 SRA: https://www.ncbi.nlm.nih.gov/sra?term=SRX380381\n",
       "GSM1269906 SRA: https://www.ncbi.nlm.nih.gov/sra?term=SRX380382\n",
       "GSM1269907                                                     \n",
       "GSM1269908                                                     \n",
       "GSM1269909                                                     \n",
       "GSM1269910                                                     \n",
       "GSM1269911 SRA: https://www.ncbi.nlm.nih.gov/sra?term=SRX380387\n",
       "GSM1269912 SRA: https://www.ncbi.nlm.nih.gov/sra?term=SRX380388\n",
       "GSM1269913 SRA: https://www.ncbi.nlm.nih.gov/sra?term=SRX380389\n",
       "GSM1269914 SRA: https://www.ncbi.nlm.nih.gov/sra?term=SRX380390\n",
       "GSM1269915 SRA: https://www.ncbi.nlm.nih.gov/sra?term=SRX380391\n",
       "GSM1269916 SRA: https://www.ncbi.nlm.nih.gov/sra?term=SRX380392\n",
       "GSM1269917                                                     \n",
       "GSM1269918                                                     \n",
       "GSM1269919                                                     "
      ]
     },
     "metadata": {},
     "output_type": "display_data"
    }
   ],
   "source": [
    "d"
   ]
  },
  {
   "cell_type": "code",
   "execution_count": 14,
   "metadata": {},
   "outputs": [
    {
     "name": "stderr",
     "output_type": "stream",
     "text": [
      "Found 1 file(s)\n",
      "GSE52564_series_matrix.txt.gz\n",
      "Using locally cached version: /cellar/users/hsher/Data/ideker/sc//GSE52564_series_matrix.txt.gz\n",
      "Parsed with column specification:\n",
      "cols(\n",
      "  ID_REF = col_character(),\n",
      "  GSM1269903 = col_character(),\n",
      "  GSM1269904 = col_character(),\n",
      "  GSM1269905 = col_character(),\n",
      "  GSM1269906 = col_character(),\n",
      "  GSM1269907 = col_character(),\n",
      "  GSM1269908 = col_character(),\n",
      "  GSM1269909 = col_character(),\n",
      "  GSM1269910 = col_character(),\n",
      "  GSM1269911 = col_character(),\n",
      "  GSM1269912 = col_character(),\n",
      "  GSM1269913 = col_character(),\n",
      "  GSM1269914 = col_character(),\n",
      "  GSM1269915 = col_character(),\n",
      "  GSM1269916 = col_character(),\n",
      "  GSM1269917 = col_character(),\n",
      "  GSM1269918 = col_character(),\n",
      "  GSM1269919 = col_character()\n",
      ")\n",
      "Using locally cached version of GPL13112 found here:\n",
      "/cellar/users/hsher/Data/ideker/sc//GPL13112.soft \n",
      "Warning message:\n",
      "“Expected 2 pieces. Missing pieces filled with `NA` in 10 rows [1, 2, 3, 4, 9, 10, 11, 12, 13, 14].”Warning message:\n",
      "“Expected 2 pieces. Missing pieces filled with `NA` in 7 rows [5, 6, 7, 8, 15, 16, 17].”"
     ]
    }
   ],
   "source": [
    "g_series_matrix <- getGEO(GEO = 'GSE52564', destdir = target_directory)\n",
    "d <- as.data.frame.matrix(pData(g_series_matrix$GSE52564_series_matrix.txt.gz))\n",
    "metadata_of_interest <- c('tissue:ch1', 'title', 'relation.2', 'relation.3')\n",
    "d <- d[, metadata_of_interest]\n",
    "d[, 'GSM'] <- rownames(d)\n",
    "\n",
    "d %>% tidyr::separate(relation.2,\n",
    "                c(\"nothing\", \"SRX\"), sep = '=') -> d\n",
    "d %>% tidyr::separate(relation.3, \n",
    "                c(\"nothing\", \"SRX_2\"), sep = '=') ->d\n",
    "#d %>% tidyr::separate(age:ch1, \n",
    "\n",
    "d %>% mutate(SRXXX = coalesce(SRX, SRX_2)) -> d\n",
    "\n",
    "metadata_of_interest <- c('tissue:ch1', 'title', 'SRXXX', 'GSM')\n",
    "d <- d[, metadata_of_interest]\n",
    "colnames(d) <- c('tissue', 'cell type', 'SRX', 'GSM')"
   ]
  },
  {
   "cell_type": "code",
   "execution_count": 15,
   "metadata": {},
   "outputs": [],
   "source": [
    "# map SRX to SRR #SRP057196\n",
    "mapper <- getFASTQinfo('SRP033200',sra_con)[,c('run', 'experiment')]\n",
    "mapper <- mapper[!duplicated(mapper),]\n",
    "merged_d<- merge(mapper, d, by.x = 'experiment', by.y = 'SRX')\n"
   ]
  },
  {
   "cell_type": "code",
   "execution_count": 16,
   "metadata": {},
   "outputs": [
    {
     "data": {
      "text/html": [
       "<table>\n",
       "<thead><tr><th scope=col>experiment</th><th scope=col>run</th><th scope=col>tissue</th><th scope=col>cell type</th><th scope=col>GSM</th></tr></thead>\n",
       "<tbody>\n",
       "\t<tr><td>SRX380379      </td><td>SRR1033783     </td><td>cerebral cortex</td><td>Astrocyte1     </td><td>GSM1269903     </td></tr>\n",
       "\t<tr><td>SRX380380      </td><td>SRR1033784     </td><td>cerebral cortex</td><td>Astrocyte2     </td><td>GSM1269904     </td></tr>\n",
       "\t<tr><td>SRX380381      </td><td>SRR1033785     </td><td>cerebral cortex</td><td>Neuron1        </td><td>GSM1269905     </td></tr>\n",
       "\t<tr><td>SRX380382      </td><td>SRR1033786     </td><td>cerebral cortex</td><td>Neuron2        </td><td>GSM1269906     </td></tr>\n",
       "\t<tr><td>SRX380383      </td><td>SRR1033787     </td><td>cerebral cortex</td><td>OPC1           </td><td>GSM1269907     </td></tr>\n",
       "\t<tr><td>SRX380384      </td><td>SRR1033788     </td><td>cerebral cortex</td><td>OPC2           </td><td>GSM1269908     </td></tr>\n",
       "</tbody>\n",
       "</table>\n"
      ],
      "text/latex": [
       "\\begin{tabular}{r|lllll}\n",
       " experiment & run & tissue & cell type & GSM\\\\\n",
       "\\hline\n",
       "\t SRX380379       & SRR1033783      & cerebral cortex & Astrocyte1      & GSM1269903     \\\\\n",
       "\t SRX380380       & SRR1033784      & cerebral cortex & Astrocyte2      & GSM1269904     \\\\\n",
       "\t SRX380381       & SRR1033785      & cerebral cortex & Neuron1         & GSM1269905     \\\\\n",
       "\t SRX380382       & SRR1033786      & cerebral cortex & Neuron2         & GSM1269906     \\\\\n",
       "\t SRX380383       & SRR1033787      & cerebral cortex & OPC1            & GSM1269907     \\\\\n",
       "\t SRX380384       & SRR1033788      & cerebral cortex & OPC2            & GSM1269908     \\\\\n",
       "\\end{tabular}\n"
      ],
      "text/markdown": [
       "\n",
       "| experiment | run | tissue | cell type | GSM |\n",
       "|---|---|---|---|---|\n",
       "| SRX380379       | SRR1033783      | cerebral cortex | Astrocyte1      | GSM1269903      |\n",
       "| SRX380380       | SRR1033784      | cerebral cortex | Astrocyte2      | GSM1269904      |\n",
       "| SRX380381       | SRR1033785      | cerebral cortex | Neuron1         | GSM1269905      |\n",
       "| SRX380382       | SRR1033786      | cerebral cortex | Neuron2         | GSM1269906      |\n",
       "| SRX380383       | SRR1033787      | cerebral cortex | OPC1            | GSM1269907      |\n",
       "| SRX380384       | SRR1033788      | cerebral cortex | OPC2            | GSM1269908      |\n",
       "\n"
      ],
      "text/plain": [
       "  experiment run        tissue          cell type  GSM       \n",
       "1 SRX380379  SRR1033783 cerebral cortex Astrocyte1 GSM1269903\n",
       "2 SRX380380  SRR1033784 cerebral cortex Astrocyte2 GSM1269904\n",
       "3 SRX380381  SRR1033785 cerebral cortex Neuron1    GSM1269905\n",
       "4 SRX380382  SRR1033786 cerebral cortex Neuron2    GSM1269906\n",
       "5 SRX380383  SRR1033787 cerebral cortex OPC1       GSM1269907\n",
       "6 SRX380384  SRR1033788 cerebral cortex OPC2       GSM1269908"
      ]
     },
     "metadata": {},
     "output_type": "display_data"
    }
   ],
   "source": [
    "head(merged_d)"
   ]
  },
  {
   "cell_type": "code",
   "execution_count": 17,
   "metadata": {},
   "outputs": [],
   "source": [
    "d %>% write.csv('GSE52564_metadata.csv')"
   ]
  },
  {
   "cell_type": "markdown",
   "metadata": {},
   "source": [
    "# GSE 60361"
   ]
  },
  {
   "cell_type": "code",
   "execution_count": 18,
   "metadata": {},
   "outputs": [
    {
     "name": "stderr",
     "output_type": "stream",
     "text": [
      "Found 1 file(s)\n",
      "GSE60361_series_matrix.txt.gz\n",
      "Using locally cached version: /cellar/users/hsher/Data/ideker/sc//GSE60361_series_matrix.txt.gz\n",
      "Parsed with column specification:\n",
      "cols(\n",
      "  .default = col_character()\n",
      ")\n",
      "See spec(...) for full column specifications.\n",
      "Using locally cached version of GPL13112 found here:\n",
      "/cellar/users/hsher/Data/ideker/sc//GPL13112.soft \n"
     ]
    }
   ],
   "source": [
    "g_series_matrix <- getGEO(GEO = 'GSE60361', destdir = target_directory)\n",
    "\n",
    "d <- as.data.frame.matrix(pData(g_series_matrix$GSE60361_series_matrix.txt.gz))\n",
    "metadata_of_interest <- c('relation.1', 'age:ch1', 'Sex:ch1')\n",
    "d <- d[, metadata_of_interest]\n",
    "\n",
    "d %>% tidyr::separate(relation.1,\n",
    "                c(\"nothing\", \"SRX\"), sep = '=') -> d\n",
    "d[,c('SRX', 'age:ch1', 'Sex:ch1')] -> d\n",
    "colnames(d) <- c('SRX', 'age', 'sex')\n",
    "d[, 'GSM'] <- rownames(d)"
   ]
  },
  {
   "cell_type": "code",
   "execution_count": 19,
   "metadata": {},
   "outputs": [],
   "source": [
    "# map SRX to SRR #SRP057196\n",
    "mapper <- getFASTQinfo('SRP045452',sra_con)[,c('run', 'experiment')]\n",
    "mapper <- mapper[!duplicated(mapper),]\n",
    "merged_d<- merge(mapper, d, by.x = 'experiment', by.y = 'SRX')\n"
   ]
  },
  {
   "cell_type": "code",
   "execution_count": 20,
   "metadata": {},
   "outputs": [
    {
     "data": {
      "text/html": [
       "<table>\n",
       "<thead><tr><th scope=col>experiment</th><th scope=col>run</th><th scope=col>age</th><th scope=col>sex</th><th scope=col>GSM</th></tr></thead>\n",
       "<tbody>\n",
       "\t<tr><td>SRX676062 </td><td>SRR1544693</td><td>P26       </td><td>female    </td><td>GSM1474251</td></tr>\n",
       "\t<tr><td>SRX676063 </td><td>SRR1544694</td><td>P26       </td><td>female    </td><td>GSM1474252</td></tr>\n",
       "\t<tr><td>SRX676064 </td><td>SRR1544695</td><td>P26       </td><td>female    </td><td>GSM1474253</td></tr>\n",
       "\t<tr><td>SRX676065 </td><td>SRR1544696</td><td>P26       </td><td>female    </td><td>GSM1474254</td></tr>\n",
       "\t<tr><td>SRX676066 </td><td>SRR1544697</td><td>P26       </td><td>female    </td><td>GSM1474255</td></tr>\n",
       "\t<tr><td>SRX676067 </td><td>SRR1544698</td><td>P26       </td><td>female    </td><td>GSM1474256</td></tr>\n",
       "</tbody>\n",
       "</table>\n"
      ],
      "text/latex": [
       "\\begin{tabular}{r|lllll}\n",
       " experiment & run & age & sex & GSM\\\\\n",
       "\\hline\n",
       "\t SRX676062  & SRR1544693 & P26        & female     & GSM1474251\\\\\n",
       "\t SRX676063  & SRR1544694 & P26        & female     & GSM1474252\\\\\n",
       "\t SRX676064  & SRR1544695 & P26        & female     & GSM1474253\\\\\n",
       "\t SRX676065  & SRR1544696 & P26        & female     & GSM1474254\\\\\n",
       "\t SRX676066  & SRR1544697 & P26        & female     & GSM1474255\\\\\n",
       "\t SRX676067  & SRR1544698 & P26        & female     & GSM1474256\\\\\n",
       "\\end{tabular}\n"
      ],
      "text/markdown": [
       "\n",
       "| experiment | run | age | sex | GSM |\n",
       "|---|---|---|---|---|\n",
       "| SRX676062  | SRR1544693 | P26        | female     | GSM1474251 |\n",
       "| SRX676063  | SRR1544694 | P26        | female     | GSM1474252 |\n",
       "| SRX676064  | SRR1544695 | P26        | female     | GSM1474253 |\n",
       "| SRX676065  | SRR1544696 | P26        | female     | GSM1474254 |\n",
       "| SRX676066  | SRR1544697 | P26        | female     | GSM1474255 |\n",
       "| SRX676067  | SRR1544698 | P26        | female     | GSM1474256 |\n",
       "\n"
      ],
      "text/plain": [
       "  experiment run        age sex    GSM       \n",
       "1 SRX676062  SRR1544693 P26 female GSM1474251\n",
       "2 SRX676063  SRR1544694 P26 female GSM1474252\n",
       "3 SRX676064  SRR1544695 P26 female GSM1474253\n",
       "4 SRX676065  SRR1544696 P26 female GSM1474254\n",
       "5 SRX676066  SRR1544697 P26 female GSM1474255\n",
       "6 SRX676067  SRR1544698 P26 female GSM1474256"
      ]
     },
     "metadata": {},
     "output_type": "display_data"
    }
   ],
   "source": [
    "head(merged_d)"
   ]
  },
  {
   "cell_type": "code",
   "execution_count": 21,
   "metadata": {},
   "outputs": [],
   "source": [
    "merged_d %>% write.csv('GSE60361_metadata.csv')"
   ]
  },
  {
   "cell_type": "markdown",
   "metadata": {},
   "source": [
    "# GSE71585"
   ]
  },
  {
   "cell_type": "code",
   "execution_count": 22,
   "metadata": {},
   "outputs": [
    {
     "name": "stderr",
     "output_type": "stream",
     "text": [
      "Found 3 file(s)\n",
      "GSE71585-GPL13112_series_matrix.txt.gz\n",
      "Using locally cached version: /cellar/users/hsher/Data/ideker/sc//GSE71585-GPL13112_series_matrix.txt.gz\n",
      "Parsed with column specification:\n",
      "cols(\n",
      "  .default = col_character()\n",
      ")\n",
      "See spec(...) for full column specifications.\n",
      "Using locally cached version of GPL13112 found here:\n",
      "/cellar/users/hsher/Data/ideker/sc//GPL13112.soft \n",
      "GSE71585-GPL16417_series_matrix.txt.gz\n",
      "Using locally cached version: /cellar/users/hsher/Data/ideker/sc//GSE71585-GPL16417_series_matrix.txt.gz\n",
      "Parsed with column specification:\n",
      "cols(\n",
      "  ID_REF = col_character(),\n",
      "  GSM1839769 = col_character()\n",
      ")\n",
      "Using locally cached version of GPL16417 found here:\n",
      "/cellar/users/hsher/Data/ideker/sc//GPL16417.soft \n",
      "GSE71585-GPL17021_series_matrix.txt.gz\n",
      "Using locally cached version: /cellar/users/hsher/Data/ideker/sc//GSE71585-GPL17021_series_matrix.txt.gz\n",
      "Parsed with column specification:\n",
      "cols(\n",
      "  .default = col_character()\n",
      ")\n",
      "See spec(...) for full column specifications.\n",
      "Using locally cached version of GPL17021 found here:\n",
      "/cellar/users/hsher/Data/ideker/sc//GPL17021.soft \n"
     ]
    }
   ],
   "source": [
    "g_series_matrix <- getGEO(GEO = 'GSE71585', destdir = target_directory)\n",
    "d1 <- as.data.frame.matrix(pData(g_series_matrix$`GSE71585-GPL13112_series_matrix.txt.gz`))\n",
    "d2 <- as.data.frame.matrix(pData(g_series_matrix$`GSE71585-GPL16417_series_matrix.txt.gz`))\n",
    "d3 <- as.data.frame.matrix(pData(g_series_matrix$`GSE71585-GPL17021_series_matrix.txt.gz`))\n",
    "metadata_of_interest <- c('source_name_ch1', 'characteristics_ch1', 'relation.1', 'characteristics_ch1.8')\n",
    "d <- rbind(d1[, metadata_of_interest],d2[, metadata_of_interest],d3[, metadata_of_interest])\n",
    "d %>% tidyr::separate(relation.1,\n",
    "                c(\"nothing\", \"SRX\"), sep = '=') -> d\n",
    "d %>% tidyr::separate(characteristics_ch1.8,\n",
    "                c(\"nothing\", \"cell type\"), sep = ':') -> d\n",
    "metadata_of_interest <- c('source_name_ch1', 'SRX', 'cell type')\n",
    "d <- d[,metadata_of_interest]\n",
    "colnames(d) <-  c('tissue', 'SRX', 'cell type')\n",
    "d[,'GSM'] <- rownames(d)\n"
   ]
  },
  {
   "cell_type": "code",
   "execution_count": 23,
   "metadata": {},
   "outputs": [],
   "source": [
    "# map SRX to SRR #SRP057196\n",
    "mapper <- getFASTQinfo('SRP061902',sra_con)[,c('run', 'experiment')]\n",
    "mapper <- mapper[!duplicated(mapper),]\n",
    "merged_d<- merge(mapper, d, by.x = 'experiment', by.y = 'SRX')\n"
   ]
  },
  {
   "cell_type": "code",
   "execution_count": 24,
   "metadata": {},
   "outputs": [
    {
     "data": {
      "text/html": [
       "<table>\n",
       "<thead><tr><th scope=col>experiment</th><th scope=col>run</th><th scope=col>tissue</th><th scope=col>cell type</th><th scope=col>GSM</th></tr></thead>\n",
       "<tbody>\n",
       "\t<tr><td>SRX1127668           </td><td>SRR2138604           </td><td>Primary visual cortex</td><td> Vip Mybpc1          </td><td>GSM1839192           </td></tr>\n",
       "\t<tr><td>SRX1127669           </td><td>SRR2138605           </td><td>Primary visual cortex</td><td> Vip Cxcl14_Car4     </td><td>GSM1839193           </td></tr>\n",
       "\t<tr><td>SRX1127670           </td><td>SRR2138606           </td><td>Primary visual cortex</td><td> L4 Sparcl1          </td><td>GSM1839194           </td></tr>\n",
       "\t<tr><td>SRX1127671           </td><td>SRR2138607           </td><td>Primary visual cortex</td><td> Vip Chat            </td><td>GSM1839195           </td></tr>\n",
       "\t<tr><td>SRX1127672           </td><td>SRR2138608           </td><td>Primary visual cortex</td><td> Vip Cxcl14_Car4     </td><td>GSM1839196           </td></tr>\n",
       "\t<tr><td>SRX1127673           </td><td>SRR2138609           </td><td>Primary visual cortex</td><td> L2/3 Otof           </td><td>GSM1839197           </td></tr>\n",
       "</tbody>\n",
       "</table>\n"
      ],
      "text/latex": [
       "\\begin{tabular}{r|lllll}\n",
       " experiment & run & tissue & cell type & GSM\\\\\n",
       "\\hline\n",
       "\t SRX1127668            & SRR2138604            & Primary visual cortex &  Vip Mybpc1           & GSM1839192           \\\\\n",
       "\t SRX1127669            & SRR2138605            & Primary visual cortex &  Vip Cxcl14\\_Car4    & GSM1839193           \\\\\n",
       "\t SRX1127670            & SRR2138606            & Primary visual cortex &  L4 Sparcl1           & GSM1839194           \\\\\n",
       "\t SRX1127671            & SRR2138607            & Primary visual cortex &  Vip Chat             & GSM1839195           \\\\\n",
       "\t SRX1127672            & SRR2138608            & Primary visual cortex &  Vip Cxcl14\\_Car4    & GSM1839196           \\\\\n",
       "\t SRX1127673            & SRR2138609            & Primary visual cortex &  L2/3 Otof            & GSM1839197           \\\\\n",
       "\\end{tabular}\n"
      ],
      "text/markdown": [
       "\n",
       "| experiment | run | tissue | cell type | GSM |\n",
       "|---|---|---|---|---|\n",
       "| SRX1127668            | SRR2138604            | Primary visual cortex |  Vip Mybpc1           | GSM1839192            |\n",
       "| SRX1127669            | SRR2138605            | Primary visual cortex |  Vip Cxcl14_Car4      | GSM1839193            |\n",
       "| SRX1127670            | SRR2138606            | Primary visual cortex |  L4 Sparcl1           | GSM1839194            |\n",
       "| SRX1127671            | SRR2138607            | Primary visual cortex |  Vip Chat             | GSM1839195            |\n",
       "| SRX1127672            | SRR2138608            | Primary visual cortex |  Vip Cxcl14_Car4      | GSM1839196            |\n",
       "| SRX1127673            | SRR2138609            | Primary visual cortex |  L2/3 Otof            | GSM1839197            |\n",
       "\n"
      ],
      "text/plain": [
       "  experiment run        tissue                cell type        GSM       \n",
       "1 SRX1127668 SRR2138604 Primary visual cortex  Vip Mybpc1      GSM1839192\n",
       "2 SRX1127669 SRR2138605 Primary visual cortex  Vip Cxcl14_Car4 GSM1839193\n",
       "3 SRX1127670 SRR2138606 Primary visual cortex  L4 Sparcl1      GSM1839194\n",
       "4 SRX1127671 SRR2138607 Primary visual cortex  Vip Chat        GSM1839195\n",
       "5 SRX1127672 SRR2138608 Primary visual cortex  Vip Cxcl14_Car4 GSM1839196\n",
       "6 SRX1127673 SRR2138609 Primary visual cortex  L2/3 Otof       GSM1839197"
      ]
     },
     "metadata": {},
     "output_type": "display_data"
    }
   ],
   "source": [
    "head(merged_d)"
   ]
  },
  {
   "cell_type": "code",
   "execution_count": 25,
   "metadata": {},
   "outputs": [],
   "source": [
    "merged_d %>% write.csv('GSE71585_metadata.csv')"
   ]
  }
 ],
 "metadata": {
  "kernelspec": {
   "display_name": "R",
   "language": "R",
   "name": "ir"
  },
  "language_info": {
   "codemirror_mode": "r",
   "file_extension": ".r",
   "mimetype": "text/x-r-source",
   "name": "R",
   "pygments_lexer": "r",
   "version": "3.6.1"
  }
 },
 "nbformat": 4,
 "nbformat_minor": 2
}
