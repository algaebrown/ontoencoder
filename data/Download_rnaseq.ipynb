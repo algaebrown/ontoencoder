{
 "cells": [
  {
   "cell_type": "code",
   "execution_count": 6,
   "metadata": {},
   "outputs": [
    {
     "name": "stderr",
     "output_type": "stream",
     "text": [
      "New names:\n",
      "* `` -> ...1\n"
     ]
    }
   ],
   "source": [
    "library(readxl)\n",
    "target_directory = '/cellar/users/hsher/Data/ideker/sc/'\n",
    "geo = read_excel('RNA-seq.xlsx')"
   ]
  },
  {
   "cell_type": "code",
   "execution_count": 7,
   "metadata": {},
   "outputs": [
    {
     "data": {
      "text/html": [
       "<table>\n",
       "<thead><tr><th scope=col>...1</th><th scope=col>GEO accession</th><th scope=col>species</th></tr></thead>\n",
       "<tbody>\n",
       "\t<tr><td>Darmanis</td><td>GSE67835</td><td>human   </td></tr>\n",
       "\t<tr><td>Zhang   </td><td>GSE73721</td><td>human   </td></tr>\n",
       "\t<tr><td>Zhang   </td><td>GSE52564</td><td>mouse   </td></tr>\n",
       "\t<tr><td>Zeisel  </td><td>GSE60361</td><td>mouse   </td></tr>\n",
       "\t<tr><td>Tasic   </td><td>GSE71585</td><td>mouse   </td></tr>\n",
       "</tbody>\n",
       "</table>\n"
      ],
      "text/latex": [
       "\\begin{tabular}{r|lll}\n",
       " ...1 & GEO accession & species\\\\\n",
       "\\hline\n",
       "\t Darmanis & GSE67835 & human   \\\\\n",
       "\t Zhang    & GSE73721 & human   \\\\\n",
       "\t Zhang    & GSE52564 & mouse   \\\\\n",
       "\t Zeisel   & GSE60361 & mouse   \\\\\n",
       "\t Tasic    & GSE71585 & mouse   \\\\\n",
       "\\end{tabular}\n"
      ],
      "text/markdown": [
       "\n",
       "| ...1 | GEO accession | species |\n",
       "|---|---|---|\n",
       "| Darmanis | GSE67835 | human    |\n",
       "| Zhang    | GSE73721 | human    |\n",
       "| Zhang    | GSE52564 | mouse    |\n",
       "| Zeisel   | GSE60361 | mouse    |\n",
       "| Tasic    | GSE71585 | mouse    |\n",
       "\n"
      ],
      "text/plain": [
       "  ...1     GEO accession species\n",
       "1 Darmanis GSE67835      human  \n",
       "2 Zhang    GSE73721      human  \n",
       "3 Zhang    GSE52564      mouse  \n",
       "4 Zeisel   GSE60361      mouse  \n",
       "5 Tasic    GSE71585      mouse  "
      ]
     },
     "metadata": {},
     "output_type": "display_data"
    }
   ],
   "source": [
    "# datasets to download\n",
    "geo"
   ]
  },
  {
   "cell_type": "code",
   "execution_count": 8,
   "metadata": {},
   "outputs": [
    {
     "name": "stderr",
     "output_type": "stream",
     "text": [
      "Loading required package: Biobase\n",
      "Loading required package: BiocGenerics\n",
      "Loading required package: parallel\n",
      "\n",
      "Attaching package: ‘BiocGenerics’\n",
      "\n",
      "The following objects are masked from ‘package:parallel’:\n",
      "\n",
      "    clusterApply, clusterApplyLB, clusterCall, clusterEvalQ,\n",
      "    clusterExport, clusterMap, parApply, parCapply, parLapply,\n",
      "    parLapplyLB, parRapply, parSapply, parSapplyLB\n",
      "\n",
      "The following objects are masked from ‘package:stats’:\n",
      "\n",
      "    IQR, mad, sd, var, xtabs\n",
      "\n",
      "The following objects are masked from ‘package:base’:\n",
      "\n",
      "    anyDuplicated, append, as.data.frame, basename, cbind, colnames,\n",
      "    dirname, do.call, duplicated, eval, evalq, Filter, Find, get, grep,\n",
      "    grepl, intersect, is.unsorted, lapply, Map, mapply, match, mget,\n",
      "    order, paste, pmax, pmax.int, pmin, pmin.int, Position, rank,\n",
      "    rbind, Reduce, rownames, sapply, setdiff, sort, table, tapply,\n",
      "    union, unique, unsplit, which, which.max, which.min\n",
      "\n",
      "Welcome to Bioconductor\n",
      "\n",
      "    Vignettes contain introductory material; view with\n",
      "    'browseVignettes()'. To cite Bioconductor, see\n",
      "    'citation(\"Biobase\")', and for packages 'citation(\"pkgname\")'.\n",
      "\n",
      "Setting options('download.file.method.GEOquery'='auto')\n",
      "Setting options('GEOquery.inmemory.gpl'=FALSE)\n"
     ]
    }
   ],
   "source": [
    "library(GEOquery)"
   ]
  },
  {
   "cell_type": "code",
   "execution_count": 37,
   "metadata": {},
   "outputs": [],
   "source": [
    "geo_ids = geo['GEO accession']"
   ]
  },
  {
   "cell_type": "code",
   "execution_count": 39,
   "metadata": {},
   "outputs": [
    {
     "name": "stdout",
     "output_type": "stream",
     "text": [
      "[1] \"GSE67835\"\n"
     ]
    },
    {
     "name": "stderr",
     "output_type": "stream",
     "text": [
      "Found 2 file(s)\n",
      "GSE67835-GPL15520_series_matrix.txt.gz\n",
      "Parsed with column specification:\n",
      "cols(\n",
      "  .default = col_character()\n",
      ")\n",
      "See spec(...) for full column specifications.\n",
      "File stored at: \n",
      "/cellar/users/hsher/Data/ideker/sc//GPL15520.soft\n",
      "GSE67835-GPL18573_series_matrix.txt.gz\n",
      "Parsed with column specification:\n",
      "cols(\n",
      "  .default = col_character()\n",
      ")\n",
      "See spec(...) for full column specifications.\n",
      "File stored at: \n",
      "/cellar/users/hsher/Data/ideker/sc//GPL18573.soft\n"
     ]
    },
    {
     "name": "stdout",
     "output_type": "stream",
     "text": [
      "[1] \"GSE73721\"\n"
     ]
    },
    {
     "name": "stderr",
     "output_type": "stream",
     "text": [
      "Found 2 file(s)\n",
      "GSE73721-GPL18573_series_matrix.txt.gz\n",
      "Parsed with column specification:\n",
      "cols(\n",
      "  .default = col_character()\n",
      ")\n",
      "See spec(...) for full column specifications.\n",
      "Using locally cached version of GPL18573 found here:\n",
      "/cellar/users/hsher/Data/ideker/sc//GPL18573.soft \n",
      "GSE73721-GPL19057_series_matrix.txt.gz\n",
      "Parsed with column specification:\n",
      "cols(\n",
      "  ID_REF = col_character(),\n",
      "  GSM1901329 = col_character(),\n",
      "  GSM1901330 = col_character(),\n",
      "  GSM1901331 = col_character(),\n",
      "  GSM1901332 = col_character()\n",
      ")\n",
      "File stored at: \n",
      "/cellar/users/hsher/Data/ideker/sc//GPL19057.soft\n"
     ]
    },
    {
     "name": "stdout",
     "output_type": "stream",
     "text": [
      "[1] \"GSE52564\"\n"
     ]
    },
    {
     "name": "stderr",
     "output_type": "stream",
     "text": [
      "Found 1 file(s)\n",
      "GSE52564_series_matrix.txt.gz\n",
      "Parsed with column specification:\n",
      "cols(\n",
      "  ID_REF = col_character(),\n",
      "  GSM1269903 = col_character(),\n",
      "  GSM1269904 = col_character(),\n",
      "  GSM1269905 = col_character(),\n",
      "  GSM1269906 = col_character(),\n",
      "  GSM1269907 = col_character(),\n",
      "  GSM1269908 = col_character(),\n",
      "  GSM1269909 = col_character(),\n",
      "  GSM1269910 = col_character(),\n",
      "  GSM1269911 = col_character(),\n",
      "  GSM1269912 = col_character(),\n",
      "  GSM1269913 = col_character(),\n",
      "  GSM1269914 = col_character(),\n",
      "  GSM1269915 = col_character(),\n",
      "  GSM1269916 = col_character(),\n",
      "  GSM1269917 = col_character(),\n",
      "  GSM1269918 = col_character(),\n",
      "  GSM1269919 = col_character()\n",
      ")\n",
      "File stored at: \n",
      "/cellar/users/hsher/Data/ideker/sc//GPL13112.soft\n"
     ]
    },
    {
     "name": "stdout",
     "output_type": "stream",
     "text": [
      "[1] \"GSE60361\"\n"
     ]
    },
    {
     "name": "stderr",
     "output_type": "stream",
     "text": [
      "Found 1 file(s)\n",
      "GSE60361_series_matrix.txt.gz\n",
      "Parsed with column specification:\n",
      "cols(\n",
      "  .default = col_character()\n",
      ")\n",
      "See spec(...) for full column specifications.\n",
      "Using locally cached version of GPL13112 found here:\n",
      "/cellar/users/hsher/Data/ideker/sc//GPL13112.soft \n"
     ]
    },
    {
     "name": "stdout",
     "output_type": "stream",
     "text": [
      "[1] \"GSE71585\"\n"
     ]
    },
    {
     "name": "stderr",
     "output_type": "stream",
     "text": [
      "Found 3 file(s)\n",
      "GSE71585-GPL13112_series_matrix.txt.gz\n",
      "Parsed with column specification:\n",
      "cols(\n",
      "  .default = col_character()\n",
      ")\n",
      "See spec(...) for full column specifications.\n",
      "Using locally cached version of GPL13112 found here:\n",
      "/cellar/users/hsher/Data/ideker/sc//GPL13112.soft \n",
      "GSE71585-GPL16417_series_matrix.txt.gz\n",
      "Parsed with column specification:\n",
      "cols(\n",
      "  ID_REF = col_character(),\n",
      "  GSM1839769 = col_character()\n",
      ")\n",
      "File stored at: \n",
      "/cellar/users/hsher/Data/ideker/sc//GPL16417.soft\n",
      "GSE71585-GPL17021_series_matrix.txt.gz\n",
      "Parsed with column specification:\n",
      "cols(\n",
      "  .default = col_character()\n",
      ")\n",
      "See spec(...) for full column specifications.\n",
      "File stored at: \n",
      "/cellar/users/hsher/Data/ideker/sc//GPL17021.soft\n"
     ]
    }
   ],
   "source": [
    "for (geo_id in as.matrix(geo_ids)){\n",
    "    print(geo_id)\n",
    "    getGEO(GEO = geo_id, destdir = target_directory)\n",
    "}"
   ]
  },
  {
   "cell_type": "code",
   "execution_count": null,
   "metadata": {},
   "outputs": [],
   "source": []
  }
 ],
 "metadata": {
  "kernelspec": {
   "display_name": "R",
   "language": "R",
   "name": "ir"
  },
  "language_info": {
   "codemirror_mode": "r",
   "file_extension": ".r",
   "mimetype": "text/x-r-source",
   "name": "R",
   "pygments_lexer": "r",
   "version": "3.6.1"
  }
 },
 "nbformat": 4,
 "nbformat_minor": 2
}
