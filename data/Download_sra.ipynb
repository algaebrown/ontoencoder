{
 "cells": [
  {
   "cell_type": "markdown",
   "metadata": {},
   "source": [
    "Because the intermediate are with different ways of preprocessing, I need to preprocess the data again to get the count matrix\n",
    "[Follow their protocol](https://static-content.springer.com/esm/art%3A10.1038%2Fs41598-018-27293-5/MediaObjects/41598_2018_27293_MOESM1_ESM.pdf)\n",
    "\n",
    "[Tutorial on RNA-seq, Star aligner](https://hbctraining.github.io/Intro-to-rnaseq-hpc-O2/lessons/03_alignment.html)\n",
    "\n",
    "[How to get all SRA file at once](https://www.biostars.org/p/93494/)\n",
    "\n",
    "[SRAdb tutorial](https://firas.io/post/sradb_part1/)\n",
    "\n",
    "1. download\n",
    "2. fastq-dump (convert sra to fastq)\n",
    "3. Star aligner\n",
    "4. FeatureCount\n",
    "5. counfounder removal? (optional)"
   ]
  },
  {
   "cell_type": "code",
   "execution_count": 2,
   "metadata": {},
   "outputs": [
    {
     "name": "stderr",
     "output_type": "stream",
     "text": [
      "New names:\n",
      "* `` -> ...1\n"
     ]
    }
   ],
   "source": [
    "library(readxl)\n",
    "geo = read_excel('RNA-seq.xlsx')"
   ]
  },
  {
   "cell_type": "code",
   "execution_count": 3,
   "metadata": {},
   "outputs": [
    {
     "data": {
      "text/html": [
       "<table>\n",
       "<thead><tr><th scope=col>...1</th><th scope=col>GEO accession</th><th scope=col>species</th><th scope=col>SRA</th></tr></thead>\n",
       "<tbody>\n",
       "\t<tr><td>Darmanis </td><td>GSE67835 </td><td>human    </td><td>SRP057196</td></tr>\n",
       "\t<tr><td>Zhang    </td><td>GSE73721 </td><td>human    </td><td>SRP064454</td></tr>\n",
       "\t<tr><td>Zhang    </td><td>GSE52564 </td><td>mouse    </td><td>SRP033200</td></tr>\n",
       "\t<tr><td>Zeisel   </td><td>GSE60361 </td><td>mouse    </td><td>SRP045452</td></tr>\n",
       "\t<tr><td>Tasic    </td><td>GSE71585 </td><td>mouse    </td><td>SRP061902</td></tr>\n",
       "</tbody>\n",
       "</table>\n"
      ],
      "text/latex": [
       "\\begin{tabular}{r|llll}\n",
       " ...1 & GEO accession & species & SRA\\\\\n",
       "\\hline\n",
       "\t Darmanis  & GSE67835  & human     & SRP057196\\\\\n",
       "\t Zhang     & GSE73721  & human     & SRP064454\\\\\n",
       "\t Zhang     & GSE52564  & mouse     & SRP033200\\\\\n",
       "\t Zeisel    & GSE60361  & mouse     & SRP045452\\\\\n",
       "\t Tasic     & GSE71585  & mouse     & SRP061902\\\\\n",
       "\\end{tabular}\n"
      ],
      "text/markdown": [
       "\n",
       "| ...1 | GEO accession | species | SRA |\n",
       "|---|---|---|---|\n",
       "| Darmanis  | GSE67835  | human     | SRP057196 |\n",
       "| Zhang     | GSE73721  | human     | SRP064454 |\n",
       "| Zhang     | GSE52564  | mouse     | SRP033200 |\n",
       "| Zeisel    | GSE60361  | mouse     | SRP045452 |\n",
       "| Tasic     | GSE71585  | mouse     | SRP061902 |\n",
       "\n"
      ],
      "text/plain": [
       "  ...1     GEO accession species SRA      \n",
       "1 Darmanis GSE67835      human   SRP057196\n",
       "2 Zhang    GSE73721      human   SRP064454\n",
       "3 Zhang    GSE52564      mouse   SRP033200\n",
       "4 Zeisel   GSE60361      mouse   SRP045452\n",
       "5 Tasic    GSE71585      mouse   SRP061902"
      ]
     },
     "metadata": {},
     "output_type": "display_data"
    }
   ],
   "source": [
    "geo"
   ]
  },
  {
   "cell_type": "code",
   "execution_count": 4,
   "metadata": {},
   "outputs": [
    {
     "name": "stderr",
     "output_type": "stream",
     "text": [
      "Loading required package: RSQLite\n",
      "Loading required package: graph\n",
      "Loading required package: BiocGenerics\n",
      "Loading required package: parallel\n",
      "\n",
      "Attaching package: ‘BiocGenerics’\n",
      "\n",
      "The following objects are masked from ‘package:parallel’:\n",
      "\n",
      "    clusterApply, clusterApplyLB, clusterCall, clusterEvalQ,\n",
      "    clusterExport, clusterMap, parApply, parCapply, parLapply,\n",
      "    parLapplyLB, parRapply, parSapply, parSapplyLB\n",
      "\n",
      "The following objects are masked from ‘package:stats’:\n",
      "\n",
      "    IQR, mad, sd, var, xtabs\n",
      "\n",
      "The following objects are masked from ‘package:base’:\n",
      "\n",
      "    anyDuplicated, append, as.data.frame, basename, cbind, colnames,\n",
      "    dirname, do.call, duplicated, eval, evalq, Filter, Find, get, grep,\n",
      "    grepl, intersect, is.unsorted, lapply, Map, mapply, match, mget,\n",
      "    order, paste, pmax, pmax.int, pmin, pmin.int, Position, rank,\n",
      "    rbind, Reduce, rownames, sapply, setdiff, sort, table, tapply,\n",
      "    union, unique, unsplit, which, which.max, which.min\n",
      "\n",
      "Loading required package: RCurl\n",
      "Loading required package: bitops\n",
      "Setting options('download.file.method.GEOquery'='auto')\n",
      "Setting options('GEOquery.inmemory.gpl'=FALSE)\n"
     ]
    }
   ],
   "source": [
    "target_directory = '/cellar/users/hsher/Data/ideker/sc/'\n",
    "library(SRAdb)\n",
    "srafile = '/cellar/users/hsher/ontoencoder/data/SRAmetadb.sqlite'\n"
   ]
  },
  {
   "cell_type": "code",
   "execution_count": 5,
   "metadata": {},
   "outputs": [],
   "source": [
    "sra_con <- dbConnect(SQLite(),srafile)"
   ]
  },
  {
   "cell_type": "code",
   "execution_count": 6,
   "metadata": {},
   "outputs": [],
   "source": [
    "#\"ascp -T -l 300m -i /cellar/users/hsher/.aspera/connect/etc/asperaweb_id_dsa.openssh\" -> ascpCMD\n",
    "#getFASTQfile(geo$SRA, sra_con, destDir = target_directory, srcType = \"fasp\", ascpCMD = ascpCMD,  makeDirectory = TRUE)\n",
    "\n",
    "#getSRAfile(geo$SRA, sra_con, fileType = 'fastq', destDir = target_directory, srcType = \"fasp\", ascpCMD = ascpCMD)"
   ]
  },
  {
   "cell_type": "code",
   "execution_count": null,
   "metadata": {},
   "outputs": [],
   "source": [
    "for (srp in as.matrix(geo$SRA)){\n",
    "    # retrieve srr\n",
    "    print(srp)\n",
    "    sra_info = getFASTQinfo(srp,sra_con)\n",
    "    \n",
    "    # retrieve fastq\n",
    "    new_dir = paste(target_directory, srp, sep = '')\n",
    "    print(new_dir)\n",
    "    system(paste(\"mkdir \", new_dir))\n",
    "    \n",
    "    # getSRAfile( c(sra_info$run), sra_con, fileType ='fastq', destDir = new_dir)\n",
    "    # getSRAfile is not robust, it works sometimes and don't work the other time\n",
    "    # use bash\n",
    "    # system(paste(\"cd\", new_dir))\n",
    "    \n",
    "    for (url in sra_info$ftp){\n",
    "        url_split = as.matrix(unlist(strsplit(url, '/')))\n",
    "        filename = url_split[length(url_split)]\n",
    "        #print(filename)\n",
    "        destfile = paste(paste(new_dir, '/', sep = ''), filename, sep='')\n",
    "        if(!file.exists(destfile)){\n",
    "            system(paste(paste(\"wget\", url), paste('-P ', new_dir)))\n",
    "            print(paste(destfile, 'dont exist'))\n",
    "        }\n",
    "        else{\n",
    "            #print(paste(destfile, 'Exist'))\n",
    "        }\n",
    "        \n",
    "        \n",
    "    }\n",
    "    \n",
    "}"
   ]
  }
 ],
 "metadata": {
  "kernelspec": {
   "display_name": "R",
   "language": "R",
   "name": "ir"
  },
  "language_info": {
   "codemirror_mode": "r",
   "file_extension": ".r",
   "mimetype": "text/x-r-source",
   "name": "R",
   "pygments_lexer": "r",
   "version": "3.6.1"
  }
 },
 "nbformat": 4,
 "nbformat_minor": 2
}
